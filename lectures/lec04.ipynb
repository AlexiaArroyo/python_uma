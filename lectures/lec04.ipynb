{
 "cells": [
  {
   "cell_type": "markdown",
   "metadata": {
    "slideshow": {
     "slide_type": "slide"
    }
   },
   "source": [
    "<h1 style=\"color:teal\">Funciones.</h1>"
   ]
  },
  {
   "cell_type": "markdown",
   "metadata": {
    "slideshow": {
     "slide_type": "slide"
    }
   },
   "source": [
    "### Funciones que ya conocemos"
   ]
  },
  {
   "cell_type": "code",
   "execution_count": 1,
   "metadata": {
    "slideshow": {
     "slide_type": "fragment"
    }
   },
   "outputs": [
    {
     "data": {
      "text/plain": [
       "4"
      ]
     },
     "execution_count": 1,
     "metadata": {},
     "output_type": "execute_result"
    }
   ],
   "source": [
    "len([1, 2, 3, 4])"
   ]
  },
  {
   "cell_type": "code",
   "execution_count": 1,
   "metadata": {},
   "outputs": [
    {
     "data": {
      "text/plain": [
       "10"
      ]
     },
     "execution_count": 1,
     "metadata": {},
     "output_type": "execute_result"
    }
   ],
   "source": [
    "sum([1, 2, 3, 4])"
   ]
  },
  {
   "cell_type": "code",
   "execution_count": 2,
   "metadata": {
    "slideshow": {
     "slide_type": "fragment"
    }
   },
   "outputs": [
    {
     "name": "stdout",
     "output_type": "stream",
     "text": [
      "f(x)\n"
     ]
    }
   ],
   "source": [
    "print(\"f(x)\")"
   ]
  },
  {
   "cell_type": "code",
   "execution_count": 3,
   "metadata": {
    "slideshow": {
     "slide_type": "fragment"
    }
   },
   "outputs": [
    {
     "data": {
      "text/plain": [
       "9"
      ]
     },
     "execution_count": 3,
     "metadata": {},
     "output_type": "execute_result"
    }
   ],
   "source": [
    "pow(3, 2)"
   ]
  },
  {
   "cell_type": "code",
   "execution_count": 4,
   "metadata": {
    "slideshow": {
     "slide_type": "fragment"
    }
   },
   "outputs": [
    {
     "data": {
      "text/plain": [
       "3"
      ]
     },
     "execution_count": 4,
     "metadata": {},
     "output_type": "execute_result"
    }
   ],
   "source": [
    "abs(-3)"
   ]
  },
  {
   "cell_type": "markdown",
   "metadata": {
    "slideshow": {
     "slide_type": "slide"
    }
   },
   "source": [
    "Declarando nuestras propias funciones en Python\n",
    "\n",
    "```python\n",
    "def nombre_funcion(param1, param2, ..., paramn):\n",
    "    <operaciones>\n",
    "```"
   ]
  },
  {
   "cell_type": "code",
   "execution_count": 5,
   "metadata": {
    "slideshow": {
     "slide_type": "slide"
    }
   },
   "outputs": [
    {
     "name": "stdout",
     "output_type": "stream",
     "text": [
      "¡Esto es una función!\n"
     ]
    }
   ],
   "source": [
    "def funcion():\n",
    "    print(\"¡Esto es una función!\")\n",
    "\n",
    "funcion()"
   ]
  },
  {
   "cell_type": "code",
   "execution_count": 6,
   "metadata": {
    "slideshow": {
     "slide_type": "subslide"
    }
   },
   "outputs": [
    {
     "data": {
      "text/plain": [
       "2.23606797749979"
      ]
     },
     "execution_count": 6,
     "metadata": {},
     "output_type": "execute_result"
    }
   ],
   "source": [
    "def distancia(a, b):\n",
    "    return (a**2 + b**2) ** (1/2)\n",
    "\n",
    "distancia(1,2)"
   ]
  },
  {
   "cell_type": "code",
   "execution_count": 7,
   "metadata": {
    "collapsed": true,
    "slideshow": {
     "slide_type": "fragment"
    }
   },
   "outputs": [],
   "source": [
    "# Pasando los parámetros explicitamente\n",
    "d1 = distancia(a=1, b=2)\n",
    "d2 = distancia(b=2, a=1)"
   ]
  },
  {
   "cell_type": "code",
   "execution_count": 8,
   "metadata": {
    "slideshow": {
     "slide_type": "fragment"
    }
   },
   "outputs": [
    {
     "data": {
      "text/plain": [
       "True"
      ]
     },
     "execution_count": 8,
     "metadata": {},
     "output_type": "execute_result"
    }
   ],
   "source": [
    "d1 == d2"
   ]
  },
  {
   "cell_type": "code",
   "execution_count": 9,
   "metadata": {
    "slideshow": {
     "slide_type": "fragment"
    }
   },
   "outputs": [
    {
     "ename": "SyntaxError",
     "evalue": "positional argument follows keyword argument (<ipython-input-9-51cad1792116>, line 3)",
     "output_type": "error",
     "traceback": [
      "\u001b[0;36m  File \u001b[0;32m\"<ipython-input-9-51cad1792116>\"\u001b[0;36m, line \u001b[0;32m3\u001b[0m\n\u001b[0;31m    distancia(a=1, 2)\u001b[0m\n\u001b[0m                  ^\u001b[0m\n\u001b[0;31mSyntaxError\u001b[0m\u001b[0;31m:\u001b[0m positional argument follows keyword argument\n"
     ]
    }
   ],
   "source": [
    "# Declarar implicitamente valores de una función luego de\n",
    "# haberlas declarado explicitamente nos arroja un error\n",
    "distancia(a=1, 2)"
   ]
  },
  {
   "cell_type": "markdown",
   "metadata": {
    "slideshow": {
     "slide_type": "slide"
    }
   },
   "source": [
    "<h2 style=\"color:crimson\"> Ejercicio </h2>\n",
    "\n",
    "**Escribe un programa que tome una lista de enteros y regrese la lista con solo los números impares**\n",
    "\n",
    "```python\n",
    ">>> solo_impares([1, 5, 2, 8, 9, 10])\n",
    "[1, 5, 9]\n",
    "```"
   ]
  },
  {
   "cell_type": "markdown",
   "metadata": {
    "slideshow": {
     "slide_type": "slide"
    }
   },
   "source": [
    "### Argumentos Opcionales"
   ]
  },
  {
   "cell_type": "code",
   "execution_count": 10,
   "metadata": {
    "collapsed": true,
    "slideshow": {
     "slide_type": "fragment"
    }
   },
   "outputs": [],
   "source": [
    "def distancia2(x1, y1, x0=0, y0=0):\n",
    "    return ((x1 - x0) ** 2 + (y1 - y0) **2) ** (1/2) "
   ]
  },
  {
   "cell_type": "code",
   "execution_count": 11,
   "metadata": {
    "slideshow": {
     "slide_type": "fragment"
    }
   },
   "outputs": [
    {
     "data": {
      "text/plain": [
       "2.23606797749979"
      ]
     },
     "execution_count": 11,
     "metadata": {},
     "output_type": "execute_result"
    }
   ],
   "source": [
    "distancia2(1,2)"
   ]
  },
  {
   "cell_type": "code",
   "execution_count": 12,
   "metadata": {
    "slideshow": {
     "slide_type": "fragment"
    }
   },
   "outputs": [
    {
     "data": {
      "text/plain": [
       "0.5099019513592785"
      ]
     },
     "execution_count": 12,
     "metadata": {},
     "output_type": "execute_result"
    }
   ],
   "source": [
    "distancia2(1, 2, 1.5, 2.1)"
   ]
  },
  {
   "cell_type": "code",
   "execution_count": 13,
   "metadata": {
    "slideshow": {
     "slide_type": "fragment"
    }
   },
   "outputs": [
    {
     "data": {
      "text/plain": [
       "0.5099019513592785"
      ]
     },
     "execution_count": 13,
     "metadata": {},
     "output_type": "execute_result"
    }
   ],
   "source": [
    "# Cambiando el orden de los parametros\n",
    "distancia2(x0=1.5, x1=1, y0=2.1, y1= 2) "
   ]
  },
  {
   "cell_type": "markdown",
   "metadata": {
    "slideshow": {
     "slide_type": "slide"
    }
   },
   "source": [
    "<h2 style=\"color:crimson\"> Ejercicio </h2>\n",
    "\n",
    "**Escribir la función `operaciones` que tome tres parámetros, los primeros dos parámetros deberán ser dos números y el tercero una operación a realizar: \"suma\", \"resta\" o \"mult\", siendo este último opcional con valor predeterminado \"suma\"**"
   ]
  },
  {
   "cell_type": "markdown",
   "metadata": {
    "slideshow": {
     "slide_type": "slide"
    }
   },
   "source": [
    "## Ejemplo: Valuando opción Europea"
   ]
  },
  {
   "cell_type": "code",
   "execution_count": 13,
   "metadata": {
    "slideshow": {
     "slide_type": "subslide"
    }
   },
   "outputs": [],
   "source": [
    "from scipy.stats import norm\n",
    "from math import log, sqrt, exp\n",
    "def option(f, k, rate, sigma, ttm, say=\"call\"):\n",
    "    \"\"\"\n",
    "    Valora una opción \"call\" o \"put\" europea bajo\n",
    "    el modelo de Black '76.\n",
    "    Para una referencia, ver:\n",
    "    https://en.wikipedia.org/wiki/Black_model\n",
    "    \n",
    "    Parameters\n",
    "    ----------\n",
    "    s0: float\n",
    "        Valor del forward sobre la opción\n",
    "    k: float\n",
    "        Strike de la opción\n",
    "    rate: float\n",
    "        Tasa de interés libre de riesgo\n",
    "    sigma: float\n",
    "        Volatilidad implicita de la opción\n",
    "    ttm: float\n",
    "        tiempo hacia la fecha de maduración de la opción (time to maturity)\n",
    "    say: string\n",
    "        Tipo de la acción: \"put\" o \"call\"\n",
    "        \n",
    "    Returns\n",
    "    -------\n",
    "    float: El valor presente de la opción bajo el modelo de Black '76\n",
    "    \"\"\"    \n",
    "    ind = 1 if say == \"call\" else -1\n",
    "    d1 = (log(f / k) + sigma ** 2 / 2 * ttm) / (sigma * sqrt(ttm)); d2 = d1 - sigma * sqrt(ttm)\n",
    "    Nd1 = norm.cdf(ind * d1); Nd2 = norm.cdf(ind * d2)\n",
    "    \n",
    "    option_price = ind * exp(-rate * ttm) * (f * Nd1 - k * Nd2)\n",
    "    return option_price"
   ]
  },
  {
   "cell_type": "code",
   "execution_count": 31,
   "metadata": {
    "slideshow": {
     "slide_type": "subslide"
    }
   },
   "outputs": [
    {
     "data": {
      "text/plain": [
       "1.9960592711207739"
      ]
     },
     "execution_count": 31,
     "metadata": {},
     "output_type": "execute_result"
    }
   ],
   "source": [
    "option(12, 10, 0.06, 0.23, 12 / 365, say=\"call\")"
   ]
  },
  {
   "cell_type": "code",
   "execution_count": 39,
   "metadata": {
    "slideshow": {
     "slide_type": "fragment"
    }
   },
   "outputs": [
    {
     "name": "stdout",
     "output_type": "stream",
     "text": [
      "Help on function option in module __main__:\n",
      "\n",
      "option(f, k, rate, sigma, ttm, say='call')\n",
      "    Valora una opción \"call\" o \"put\" europea bajo\n",
      "    el modelo de Black '76.\n",
      "    Para una referencia, ver:\n",
      "    https://en.wikipedia.org/wiki/Black_model\n",
      "    \n",
      "    Parameters\n",
      "    ----------\n",
      "    s0: float\n",
      "        Valor del forward sobre la opción\n",
      "    k: float\n",
      "        Strike de la opción\n",
      "    rate: float\n",
      "        Tasa de interés libre de riesgo\n",
      "    sigma: float\n",
      "        Volatilidad implicita de la opción\n",
      "    ttm: float\n",
      "        tiempo hacia la fecha de maduración de la opción (time to maturity)\n",
      "    say: string\n",
      "        Tipo de la acción: \"put\" o \"call\"\n",
      "        \n",
      "    Returns\n",
      "    -------\n",
      "    float: El valor presente de la opción bajo el modelo de Black '76\n",
      "\n"
     ]
    }
   ],
   "source": [
    "help(option)"
   ]
  },
  {
   "cell_type": "markdown",
   "metadata": {
    "slideshow": {
     "slide_type": "slide"
    }
   },
   "source": [
    "## `*args` & `**kwargs`\n",
    "Podemos aceptar cualquier número de argumentos con `*args` y cualquier número de argumentos y llaves con `**kwargs`. En ocasiones no sabemos el número total de parametros para una función o queremos extender su dependencia hacia otras clases"
   ]
  },
  {
   "cell_type": "code",
   "execution_count": 43,
   "metadata": {
    "collapsed": true,
    "slideshow": {
     "slide_type": "fragment"
    }
   },
   "outputs": [],
   "source": [
    "def funcion_args(*args):\n",
    "    print(args)"
   ]
  },
  {
   "cell_type": "code",
   "execution_count": 45,
   "metadata": {
    "slideshow": {
     "slide_type": "fragment"
    }
   },
   "outputs": [
    {
     "name": "stdout",
     "output_type": "stream",
     "text": [
      "(1, 2, 3)\n"
     ]
    }
   ],
   "source": [
    "funcion_args(1, 2, 3)"
   ]
  },
  {
   "cell_type": "code",
   "execution_count": 46,
   "metadata": {
    "collapsed": true,
    "slideshow": {
     "slide_type": "fragment"
    }
   },
   "outputs": [],
   "source": [
    "def funcion_kwargs(**kwargs):\n",
    "    print(kwargs)"
   ]
  },
  {
   "cell_type": "code",
   "execution_count": 48,
   "metadata": {
    "slideshow": {
     "slide_type": "fragment"
    }
   },
   "outputs": [
    {
     "name": "stdout",
     "output_type": "stream",
     "text": [
      "{'a': 1, 'b': 2}\n"
     ]
    }
   ],
   "source": [
    "funcion_kwargs(a=1, b=2)"
   ]
  },
  {
   "cell_type": "code",
   "execution_count": 2,
   "metadata": {
    "collapsed": true,
    "slideshow": {
     "slide_type": "slide"
    }
   },
   "outputs": [],
   "source": [
    "def funcion_args_kwargs(*args, **kwargs):\n",
    "    print(args)\n",
    "    print(kwargs)"
   ]
  },
  {
   "cell_type": "code",
   "execution_count": 3,
   "metadata": {
    "slideshow": {
     "slide_type": "fragment"
    }
   },
   "outputs": [
    {
     "name": "stdout",
     "output_type": "stream",
     "text": [
      "(1, 2)\n",
      "{'a': 1, 'b': 2}\n"
     ]
    }
   ],
   "source": [
    "funcion_args_kwargs(1,2, a=1, b=2)"
   ]
  },
  {
   "cell_type": "markdown",
   "metadata": {
    "slideshow": {
     "slide_type": "slide"
    }
   },
   "source": [
    "<h2 style=\"color:crimson\"> Ejercicio </h2>\n",
    "\n",
    "**Escribe un programa que tome una `n` cantidad de números enteros y regrese una lista con los valores únicos**.\n",
    "```python\n",
    ">>> f(1, 2, 3, 4, 2, 3, 4)\n",
    "[1, 2, 3, 4]\n",
    "```"
   ]
  },
  {
   "cell_type": "markdown",
   "metadata": {
    "slideshow": {
     "slide_type": "slide"
    }
   },
   "source": [
    "## Ejemplo con ``**kwargs``"
   ]
  },
  {
   "cell_type": "code",
   "execution_count": 14,
   "metadata": {
    "slideshow": {
     "slide_type": "slide"
    }
   },
   "outputs": [],
   "source": [
    "from ipywidgets import interact, FloatSlider, Dropdown\n",
    "import matplotlib.pyplot as plt\n",
    "\n",
    "def graph_option(k, rate, sigma, ttm):\n",
    "    Ft = [i for i in range(10, 50, 1)]\n",
    "    prices = [option(F, k, rate, sigma, ttm) for F in Ft]\n",
    "    plt.figure(figsize=(13,8))\n",
    "    plt.plot(Ft, prices)\n",
    "    plt.xlabel(\"$F(t)$\")\n",
    "    plt.ylabel(\"$C(t)$\")\n",
    "    plt.ylim(-0.5, 25); plt.xlim(10, 50)\n",
    "    plt.show()"
   ]
  },
  {
   "cell_type": "code",
   "execution_count": 15,
   "metadata": {
    "slideshow": {
     "slide_type": "slide"
    }
   },
   "outputs": [
    {
     "data": {
      "application/vnd.jupyter.widget-view+json": {
       "model_id": "90cd3f91f215439bba5c881a21741e6b",
       "version_major": 2,
       "version_minor": 0
      },
      "text/html": [
       "<p>Failed to display Jupyter Widget of type <code>interactive</code>.</p>\n",
       "<p>\n",
       "  If you're reading this message in the Jupyter Notebook or JupyterLab Notebook, it may mean\n",
       "  that the widgets JavaScript is still loading. If this message persists, it\n",
       "  likely means that the widgets JavaScript library is either not installed or\n",
       "  not enabled. See the <a href=\"https://ipywidgets.readthedocs.io/en/stable/user_install.html\">Jupyter\n",
       "  Widgets Documentation</a> for setup instructions.\n",
       "</p>\n",
       "<p>\n",
       "  If you're reading this message in another frontend (for example, a static\n",
       "  rendering on GitHub or <a href=\"https://nbviewer.jupyter.org/\">NBViewer</a>),\n",
       "  it may mean that your frontend doesn't currently support widgets.\n",
       "</p>\n"
      ],
      "text/plain": [
       "interactive(children=(FloatSlider(value=20.0, description='k', max=50.0, min=10.0, step=1.0), FloatSlider(value=0.06, description='rate', max=0.2, min=0.01, step=0.01), FloatSlider(value=0.23, description='sigma', max=0.8, min=0.01), FloatSlider(value=0.0821917808219178, description='ttm', max=2.0, min=0.01), Output()), _dom_classes=('widget-interact',))"
      ]
     },
     "metadata": {},
     "output_type": "display_data"
    },
    {
     "data": {
      "text/plain": [
       "<function __main__.graph_option>"
      ]
     },
     "execution_count": 15,
     "metadata": {},
     "output_type": "execute_result"
    }
   ],
   "source": [
    "interact(graph_option,\n",
    "         k=FloatSlider(min=10, max=50, step=1, value=20),\n",
    "         rate=FloatSlider(min=0.01, max=0.2, step=0.01, value=0.06),\n",
    "         sigma=FloatSlider(min=0.01, max=0.8, step=0.1, value=0.23),\n",
    "         ttm=FloatSlider(min=0.01, max=2, step=0.1, value=30/365))"
   ]
  },
  {
   "cell_type": "markdown",
   "metadata": {
    "slideshow": {
     "slide_type": "slide"
    }
   },
   "source": [
    "## Funciones `lambda`\n",
    "\n",
    "Los operadores `lambda` definen funciones *anónimas*. Estas nos permiten definir funciones de una manera más concreta y, en ocasiones, sin la necesidad de declararles un nombre\n",
    "\n",
    "```python\n",
    "    lambda p1,, ..., pn: f(p1,..., pn)\n",
    "```"
   ]
  },
  {
   "cell_type": "code",
   "execution_count": 26,
   "metadata": {
    "slideshow": {
     "slide_type": "slide"
    }
   },
   "outputs": [
    {
     "name": "stdout",
     "output_type": "stream",
     "text": [
      "9\n"
     ]
    },
    {
     "data": {
      "text/plain": [
       "<function __main__.<lambda>>"
      ]
     },
     "execution_count": 26,
     "metadata": {},
     "output_type": "execute_result"
    }
   ],
   "source": [
    "cuadrado = lambda x: x**2\n",
    "print(cuadrado(3))\n",
    "cuadrado"
   ]
  },
  {
   "cell_type": "code",
   "execution_count": 27,
   "metadata": {
    "slideshow": {
     "slide_type": "fragment"
    }
   },
   "outputs": [
    {
     "name": "stdout",
     "output_type": "stream",
     "text": [
      "9\n"
     ]
    },
    {
     "data": {
      "text/plain": [
       "<function __main__.cuadrado>"
      ]
     },
     "execution_count": 27,
     "metadata": {},
     "output_type": "execute_result"
    }
   ],
   "source": [
    "def cuadrado(x):\n",
    "    return x**2\n",
    "\n",
    "print(cuadrado(3))\n",
    "cuadrado"
   ]
  },
  {
   "cell_type": "markdown",
   "metadata": {
    "slideshow": {
     "slide_type": "fragment"
    }
   },
   "source": [
    "Al ser funciones anónimas, no es necesario declararles un nombre para poder usarlas"
   ]
  },
  {
   "cell_type": "code",
   "execution_count": 31,
   "metadata": {
    "slideshow": {
     "slide_type": "fragment"
    }
   },
   "outputs": [
    {
     "data": {
      "text/plain": [
       "9"
      ]
     },
     "execution_count": 31,
     "metadata": {},
     "output_type": "execute_result"
    }
   ],
   "source": [
    "(lambda x: x**2)(3)"
   ]
  },
  {
   "cell_type": "markdown",
   "metadata": {
    "slideshow": {
     "slide_type": "slide"
    }
   },
   "source": [
    "Recurrentemente se usan como una alternativa a los \"list comprehensions\""
   ]
  },
  {
   "cell_type": "code",
   "execution_count": 32,
   "metadata": {
    "slideshow": {
     "slide_type": "fragment"
    }
   },
   "outputs": [
    {
     "data": {
      "text/plain": [
       "[0, 1, 4, 9, 16, 25, 36, 49, 64, 81]"
      ]
     },
     "execution_count": 32,
     "metadata": {},
     "output_type": "execute_result"
    }
   ],
   "source": [
    "[i**2 for i in range(10)]"
   ]
  },
  {
   "cell_type": "code",
   "execution_count": 38,
   "metadata": {
    "slideshow": {
     "slide_type": "fragment"
    }
   },
   "outputs": [
    {
     "data": {
      "text/plain": [
       "[0, 1, 4, 9, 16, 25, 36, 49, 64, 81]"
      ]
     },
     "execution_count": 38,
     "metadata": {},
     "output_type": "execute_result"
    }
   ],
   "source": [
    "list(map(lambda x: x**2, range(10)))"
   ]
  }
 ],
 "metadata": {
  "celltoolbar": "Slideshow",
  "kernelspec": {
   "display_name": "Python 3",
   "language": "python",
   "name": "python3"
  },
  "language_info": {
   "codemirror_mode": {
    "name": "ipython",
    "version": 3
   },
   "file_extension": ".py",
   "mimetype": "text/x-python",
   "name": "python",
   "nbconvert_exporter": "python",
   "pygments_lexer": "ipython3",
   "version": "3.6.5"
  },
  "widgets": {
   "state": {
    "848edb5b6b654b24a91bf3b563b89bf4": {
     "views": [
      {
       "cell_index": 38
      }
     ]
    }
   },
   "version": "1.2.0"
  }
 },
 "nbformat": 4,
 "nbformat_minor": 2
}
