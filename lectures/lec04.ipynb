{
 "cells": [
  {
   "cell_type": "markdown",
   "metadata": {
    "slideshow": {
     "slide_type": "slide"
    }
   },
   "source": [
    "<h1 style=\"color:#872325\">Cíclos</h1>"
   ]
  },
  {
   "cell_type": "markdown",
   "metadata": {},
   "source": [
    "Los cíclos o *loops* son comunmente usadas cuando tenemos un bloque de código el cuál deseamos repetir un número finito de veces.\n",
    "\n",
    "Supongamos queremos calcular el área ($A = \\pi r^2$) de un número $n$ de círculos. Dada una lista de radios `radios = [1, 3, 5, 2, 1, 10]` y considerando `pi = 3.14159265`. ¿De qué manera podríamos calcular el área de cada uno de los círculos?\n",
    "\n",
    "Una primera manera sería considerar cada elemento dentro de \"radios\" e imprimir el resultado\n",
    "```python\n",
    "radios = [1, 3, 5, 2, 1, 10]\n",
    "pi = 3.14159265\n",
    "print(pi * radios[0] ** 2)\n",
    "print(pi * radios[1] ** 2)\n",
    "print(pi * radios[2] ** 2)\n",
    "print(pi * radios[3] ** 2)\n",
    "print(pi * radios[4] ** 2)\n",
    "print(pi * radios[5] ** 2)\n",
    "```"
   ]
  },
  {
   "cell_type": "markdown",
   "metadata": {},
   "source": [
    "La desventaja de hacerlo de esta manera es tener que escribir cada uno de los índices y repetir `print` para cada uno de los elementos. Consideremos ahora que tenemos una nueva lista `radios` dada.\n",
    "````python\n",
    "radios = [69, 24, 61, 27, 93, 67, 16, 66, 79, 3, 84, 4, 2, 82, 17, 88, 1, 74, 65, 4, 82, 3, 21, 12, 62, 9, 96, 68, 63, 88]\n",
    "```\n",
    "\n",
    "Si seguimos la metodología planteada anteriormente, calcular cada uno de los radios sería una tarea tediosa y propensa a errores (si copiamos y pegamos cada `print(pi * radios[i])` existe la posibilidad de no modificar correctamente algunos de los índices).\n",
    "\n",
    "**Practical Advices**  \n",
    "Cuando en nuestro código estemos repitiendo el mismo bloque de código con minuciosas diferencias, es muy probable que necesitemos un *loop*. Siempre sigue el pricipio **DRY** (Don't repeat yourself)"
   ]
  },
  {
   "cell_type": "markdown",
   "metadata": {
    "slideshow": {
     "slide_type": "slide"
    }
   },
   "source": [
    "## `For` loops\n",
    "Usamos un `for` loop cuando conocemos de manera exacta el número de veces que deseamos correr el bloque de texto. El ejemplo anterior es un caso para usar un *for loop*.\n",
    "\n",
    "La sintaxis para un *for loop* en python es la siguiente\n",
    "\n",
    "```python\n",
    "for varval in iterable:\n",
    "    ...\n",
    "```\n",
    "\n",
    "* `iterable` es un iterable. A grandes rasgos, un iterable es todo aquello que contenga un índice (una una lista, un diccionario, un string)\n",
    "* `varval` es una variable que toma como valor cada elemento dentro de `iterable`\n",
    "* Todo bloque de código con sangría (4 espacios o tab) despues del `for` se repite por cada `varval` dentro de `iterable`"
   ]
  },
  {
   "cell_type": "code",
   "execution_count": 1,
   "metadata": {
    "slideshow": {
     "slide_type": "slide"
    }
   },
   "outputs": [
    {
     "name": "stdout",
     "output_type": "stream",
     "text": [
      "a\n",
      "b\n",
      "c\n"
     ]
    }
   ],
   "source": [
    "lista = [\"a\", \"b\", \"c\"]\n",
    "for x in lista:\n",
    "    print(x)"
   ]
  },
  {
   "cell_type": "code",
   "execution_count": 2,
   "metadata": {
    "slideshow": {
     "slide_type": "slide"
    }
   },
   "outputs": [
    {
     "name": "stdout",
     "output_type": "stream",
     "text": [
      "a\n",
      "...step...\n",
      "b\n",
      "...step...\n",
      "c\n",
      "...step...\n"
     ]
    }
   ],
   "source": [
    "lista = [\"a\", \"b\", \"c\"]\n",
    "for elemento in lista:\n",
    "    print(elemento)\n",
    "    print(\"...step...\")"
   ]
  },
  {
   "cell_type": "code",
   "execution_count": 3,
   "metadata": {
    "scrolled": true,
    "slideshow": {
     "slide_type": "slide"
    }
   },
   "outputs": [
    {
     "name": "stdout",
     "output_type": "stream",
     "text": [
      "a\n",
      "...step...\n",
      "b\n",
      "...step...\n",
      "c\n",
      "...step...\n",
      "...end...\n"
     ]
    }
   ],
   "source": [
    "# Líneas de código sin sangría se consideran fuera del loop. \n",
    "# Solo corren una vez de haber iterado cada elemento del iterable\n",
    "lista = [\"a\", \"b\", \"c\"]\n",
    "for elemento in lista:\n",
    "    print(elemento)\n",
    "    print(\"...step...\")\n",
    "print(\"...end...\")"
   ]
  },
  {
   "cell_type": "markdown",
   "metadata": {},
   "source": [
    "Considerando el ejemplo anterior, \n",
    "```python\n",
    "radios = [1, 3, 5, 2, 1, 10]\n",
    "pi = 3.14159265\n",
    "print(pi * radios[0] ** 2)\n",
    "print(pi * radios[1] ** 2)\n",
    "print(pi * radios[3] ** 2)\n",
    "print(pi * radios[3] ** 2)\n",
    "print(pi * radios[4] ** 2)\n",
    "print(pi * radios[5] ** 2)\n",
    "```\n",
    "\n",
    "Podemos reescribir el código con un *for loop* de la siguiente manera\n",
    "```python\n",
    "radios = [1, 3, 5, 2, 1, 10]\n",
    "pi = 3.14159265\n",
    "for radio in radios:\n",
    "    print(pi * radio ** 2)\n",
    "```"
   ]
  },
  {
   "cell_type": "code",
   "execution_count": null,
   "metadata": {},
   "outputs": [],
   "source": [
    "# ¿Qué resultado arrojaría correr el siguiente código?\n",
    "word = \"Beseechingly\"\n",
    "for letter in word:\n",
    "    print(letter)"
   ]
  },
  {
   "cell_type": "markdown",
   "metadata": {},
   "source": [
    "**Rangos**  \n",
    "La manera de crear un rango de números dentro de python es mediante la función `range`, la cuál puede ser usado de tres maneras\n",
    "* `range(a)` crea un rango de valores de `0` hsta `a-1`\n",
    "* `range(a, b)` crea un rango de valores de `a` hasta `b-1`\n",
    "* `range(a, b, s)` crea un rango de valores de `a` hasta `b-1` dando saltos `s`"
   ]
  },
  {
   "cell_type": "code",
   "execution_count": 6,
   "metadata": {},
   "outputs": [
    {
     "name": "stdout",
     "output_type": "stream",
     "text": [
      "0\n",
      "1\n",
      "2\n",
      "3\n",
      "4\n"
     ]
    }
   ],
   "source": [
    "for n in range(5):\n",
    "    print(n)"
   ]
  },
  {
   "cell_type": "code",
   "execution_count": 7,
   "metadata": {},
   "outputs": [
    {
     "name": "stdout",
     "output_type": "stream",
     "text": [
      "5\n",
      "6\n",
      "7\n",
      "8\n",
      "9\n",
      "10\n"
     ]
    }
   ],
   "source": [
    "for n in range(5, 11):\n",
    "    print(n)"
   ]
  },
  {
   "cell_type": "code",
   "execution_count": 8,
   "metadata": {},
   "outputs": [
    {
     "name": "stdout",
     "output_type": "stream",
     "text": [
      "4\n",
      "6\n",
      "8\n",
      "10\n"
     ]
    }
   ],
   "source": [
    "for n in range(4, 12, 2):\n",
    "    print(n)"
   ]
  },
  {
   "cell_type": "markdown",
   "metadata": {},
   "source": [
    "**El `break` keyword**  \n",
    "En ocasiones es deseable romper el cíclo antes de empezar la siguiente iteración. En estos casos podemos ocupar `break` para terminar el loop con anticipación."
   ]
  },
  {
   "cell_type": "code",
   "execution_count": 9,
   "metadata": {},
   "outputs": [
    {
     "name": "stdout",
     "output_type": "stream",
     "text": [
      "0 1 2 3 4 5 6 7 8 9 10 "
     ]
    }
   ],
   "source": [
    "for i in range(100):\n",
    "    print(i, end=\" \")\n",
    "    if i == 10:\n",
    "        break"
   ]
  },
  {
   "cell_type": "markdown",
   "metadata": {
    "slideshow": {
     "slide_type": "slide"
    }
   },
   "source": [
    "<h2 style=\"color:#d62728\"> Ejercicio </h2>\n",
    "\n",
    "1. Escribe un programa que itere sobre una lista `numeros` e imprima en la consola: `\"La suma de los elementos dentro de la lista es <suma>\"`. Si alguno de los elementos dentro de la lista números no es un `int` o un `float`, el programa deberá terminarse e imprimir:\n",
    "`\"La lista no puede ser sumada. Los elementos <lista elementos> no son ints o floats\"`\n",
    "\n",
    "Para\n",
    "```python\n",
    "numeros = [16, 4, 3, 3, 14]\n",
    "\"La suma de los elementos dentro de la lista es 40\"\n",
    "```\n",
    "Para\n",
    "```python\n",
    "numeros = [3, 5, \"a\", 8, len, True, 10, 1]\n",
    "\"La lista no puede ser sumada. Los elementos a, <built-in function len>, True no son ints o floats\"\n",
    "```"
   ]
  },
  {
   "cell_type": "markdown",
   "metadata": {
    "slideshow": {
     "slide_type": "slide"
    }
   },
   "source": [
    "## `while` loops\n",
    "A diferencia de un `for` loop, en un `while` loop **no necesariamente conocemos el número de veces que se repetirá el ciclo**. La sintáxis de un `while` loop es la siguiente.\n",
    "\n",
    "```python\n",
    "while condition:\n",
    "    ...\n",
    "```\n",
    "\n",
    "* `condition` es un booleano el cual es evaluado al princpio de cada ciclo. Si `condition == True`, el bloque de código en sangría es evaluado; de otra manera el ciclo se rompe.\n",
    "\n",
    "Un while loop repite el cíclo siempre y cuando `condition` sea `True`"
   ]
  },
  {
   "cell_type": "code",
   "execution_count": 10,
   "metadata": {
    "slideshow": {
     "slide_type": "fragment"
    }
   },
   "outputs": [
    {
     "name": "stdout",
     "output_type": "stream",
     "text": [
      "1 2 3 4 5 6 7 8 9 10 "
     ]
    }
   ],
   "source": [
    "x = 1\n",
    "while x <= 10:\n",
    "    print(x, end=\" \")\n",
    "    x+= 1"
   ]
  },
  {
   "cell_type": "code",
   "execution_count": 11,
   "metadata": {
    "slideshow": {
     "slide_type": "fragment"
    }
   },
   "outputs": [
    {
     "name": "stdout",
     "output_type": "stream",
     "text": [
      "Ingresa comidas que te gusten. Escribe 'fin' para terminar el programa\n",
      "Comida: tacos\n",
      "Comida: sushi\n",
      "Comida: pizza\n",
      "Comida: salmón\n",
      "Comida: fin\n",
      "Saliendo del programa...\n"
     ]
    }
   ],
   "source": [
    "# El siguiente programa agrega nombres de comidas a una lista\n",
    "# llamada comidas. El programa termina cuando el usuario\n",
    "# escribe 'fin'\n",
    "comidas = []\n",
    "print(\"Ingresa comidas que te gusten. Escribe 'fin' para terminar el programa\")\n",
    "input_values = True\n",
    "while input_values: # La condición siempre es, explicitamente, verdadera\n",
    "    comida = input(\"Comida: \")\n",
    "    if comida != \"fin\":\n",
    "        comidas.append(comida)\n",
    "    else:\n",
    "        print(\"Saliendo del programa...\")\n",
    "        input_values = False"
   ]
  },
  {
   "cell_type": "markdown",
   "metadata": {
    "slideshow": {
     "slide_type": "slide"
    }
   },
   "source": [
    "## Agrupando elementos con `zip`\n",
    "Algunas veces es necesario agrupar dos listas entrada por entrada. Para solucionar este problema en Python podemos usar la función `zip`.\n",
    "\n",
    "`zip` regresa un generador parejas de *tuples* entrada por entrada."
   ]
  },
  {
   "cell_type": "code",
   "execution_count": 12,
   "metadata": {
    "slideshow": {
     "slide_type": "fragment"
    }
   },
   "outputs": [
    {
     "name": "stdout",
     "output_type": "stream",
     "text": [
      "AAPL Apple\n",
      "AMZN Amazon\n",
      "FB Facebook\n",
      "GOOG Alphabet\n"
     ]
    }
   ],
   "source": [
    "tickers = [\"AAPL\", \"AMZN\", \"FB\", \"GOOG\"]\n",
    "companies = [\"Apple\", \"Amazon\", \"Facebook\", \"Alphabet\"]\n",
    "comp_tick = {} # diccionario para guardar valores\n",
    "for ticker, company in zip(tickers, companies):\n",
    "    print(ticker, company)\n",
    "    comp_tick[company] = ticker"
   ]
  },
  {
   "cell_type": "code",
   "execution_count": 13,
   "metadata": {},
   "outputs": [
    {
     "data": {
      "text/plain": [
       "{'Apple': 'AAPL', 'Amazon': 'AMZN', 'Facebook': 'FB', 'Alphabet': 'GOOG'}"
      ]
     },
     "execution_count": 13,
     "metadata": {},
     "output_type": "execute_result"
    }
   ],
   "source": [
    "comp_tick"
   ]
  },
  {
   "cell_type": "markdown",
   "metadata": {
    "slideshow": {
     "slide_type": "slide"
    }
   },
   "source": [
    "<h2 style=\"color:#d62728\"> Ejercicio </h2>\n",
    "\n",
    "1. Considerando la lista `radios` de 30 elementos definida arriba, escribe un programa que cálcule el área para cada uno de los círculos dentro de la lista e imprima, para cada área calculada, `\"El área de un circulo con radio <radio> es <area>\"`; donde `radio` es un elemento dentro de la lista `radios` y `area` es el área de un círculo con radio `radio`"
   ]
  }
 ],
 "metadata": {
  "celltoolbar": "Slideshow",
  "kernelspec": {
   "display_name": "Python 3",
   "language": "python",
   "name": "python3"
  },
  "language_info": {
   "codemirror_mode": {
    "name": "ipython",
    "version": 3
   },
   "file_extension": ".py",
   "mimetype": "text/x-python",
   "name": "python",
   "nbconvert_exporter": "python",
   "pygments_lexer": "ipython3",
   "version": "3.6.6"
  }
 },
 "nbformat": 4,
 "nbformat_minor": 2
}
