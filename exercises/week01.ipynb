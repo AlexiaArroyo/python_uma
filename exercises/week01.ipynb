{
 "cells": [
  {
   "cell_type": "markdown",
   "metadata": {},
   "source": [
    "# Tareitas\n",
    "\n",
    "Bienvenido(a) a tu primera tarea en Python (🎉). Recuerda que para la tarea no podrás usar ninguna otra herramienta más que las vistas en clase (a menos que se indique lo contrario en las instrucciones)"
   ]
  },
  {
   "cell_type": "markdown",
   "metadata": {},
   "source": [
    "**1.**  Escribe un programa que le pida al usuario un nombre y salude con: \"Hola, `nombre`\""
   ]
  },
  {
   "cell_type": "code",
   "execution_count": null,
   "metadata": {},
   "outputs": [],
   "source": []
  },
  {
   "cell_type": "markdown",
   "metadata": {},
   "source": [
    "-------"
   ]
  },
  {
   "cell_type": "markdown",
   "metadata": {},
   "source": [
    "**2.** Escribe un programa que pida un nombre y la edad y salude a la persona con su nombre y su edad más un año:\n",
    "Hola, `nombre`. El proximo año tendrás `edad + 1`.\n",
    "    \n",
    "Por ejemplo, una persona con nombre `Michael` de edad `77`. El programa debe regresar\n",
    "\n",
    "``\n",
    "\"Hola Michael, el próximo año tendrás 78 años\"\n",
    "``"
   ]
  },
  {
   "cell_type": "code",
   "execution_count": null,
   "metadata": {},
   "outputs": [],
   "source": []
  },
  {
   "cell_type": "markdown",
   "metadata": {},
   "source": [
    "-------"
   ]
  },
  {
   "cell_type": "markdown",
   "metadata": {},
   "source": [
    "**3.** Escribe un programa que, dado un string, regrese la primera y la última letra del string. \n",
    "\n",
    "Por ejemplo, si el string es `Eso es Python`, debería regresar `En`"
   ]
  },
  {
   "cell_type": "code",
   "execution_count": null,
   "metadata": {},
   "outputs": [],
   "source": []
  },
  {
   "cell_type": "markdown",
   "metadata": {},
   "source": [
    "-------"
   ]
  },
  {
   "cell_type": "markdown",
   "metadata": {},
   "source": [
    "**4.** ¿Cuáles son las repuestas a la siguientes expresiones? (Analiza la soluciónantes de ver el resultado en Python) \n",
    "\n",
    "Explica tu razonamiento\n",
    "\n",
    "a)\n",
    "```python\n",
    "2 ** 3 / 4\n",
    "```\n",
    "b)\n",
    "```python\n",
    "(1 * (3 - 3 % 10) + 10) / 10\n",
    "```\n",
    "c) \n",
    "```python\n",
    "3 ** (3 ^ 3)\n",
    "```"
   ]
  },
  {
   "cell_type": "code",
   "execution_count": null,
   "metadata": {},
   "outputs": [],
   "source": []
  },
  {
   "cell_type": "markdown",
   "metadata": {},
   "source": [
    "-------"
   ]
  },
  {
   "cell_type": "markdown",
   "metadata": {},
   "source": [
    "**5.** Si el pequeño Johny quiere invertir $30\\$$ a una tasa efectiva anual del $7\\%$ por 5 meses, ¿le conviene más invertir su dinero a una tasa compuesta o simple?\n",
    "\n",
    "Argumenta tu resultado númericamente"
   ]
  },
  {
   "cell_type": "code",
   "execution_count": null,
   "metadata": {},
   "outputs": [],
   "source": []
  },
  {
   "cell_type": "markdown",
   "metadata": {},
   "source": [
    "-------"
   ]
  },
  {
   "cell_type": "markdown",
   "metadata": {},
   "source": [
    "**6.** Aproxima la derivada de $f(x) = x^2$ al rededor de $x = 3$, con un grado de error porcentual de, al menos, $0.0001666659\\%$\n",
    "\n",
    "Recuerda:\n",
    "$$\n",
    "    \\frac{d}{dx}f(x) := \\lim_{h\\to 0}\\frac{f(x + h) - f(x)}{h}\n",
    "$$"
   ]
  },
  {
   "cell_type": "code",
   "execution_count": null,
   "metadata": {},
   "outputs": [],
   "source": []
  },
  {
   "cell_type": "markdown",
   "metadata": {},
   "source": [
    "-------"
   ]
  },
  {
   "cell_type": "markdown",
   "metadata": {},
   "source": [
    "**7.** Supón que dentro que dentro de una lista mágica hay manzanas verdes (`v`) y manzanas rojas (`r`). Dicha lista se llama `manzanas` y contiene $100$ elementos. Nuestro espacio muestral es equiprobable, por lo que agarrar cualquier manzana tiene la misma probablidad.\n",
    "\n",
    "```python\n",
    "manzanas =['v', 'v', 'r', 'v', 'r', 'r', 'v', 'r', 'v', 'r', 'v', 'r', 'v',\n",
    "           'v', 'r', 'r', 'v', 'r', 'v', 'r', 'r', 'r', 'r', 'r', 'v', 'v',\n",
    "           'r', 'r', 'r', 'r', 'r', 'r', 'r', 'v', 'r', 'r', 'r', 'v', 'r',\n",
    "           'v', 'r', 'r', 'r', 'r', 'v', 'r', 'v', 'v', 'v', 'v', 'v', 'r',\n",
    "           'r', 'v', 'v', 'r', 'r', 'r', 'v', 'v', 'v', 'r', 'r', 'r', 'v',\n",
    "           'v', 'r', 'r', 'v', 'v', 'v', 'v', 'r', 'v', 'v', 'r', 'r', 'v',\n",
    "           'r', 'v', 'r', 'v', 'r', 'r', 'v', 'r', 'r', 'r', 'v', 'r', 'r',\n",
    "           'v', 'r', 'v', 'r', 'v', 'v', 'r', 'r', 'r']\n",
    "```\n",
    "\n",
    "Dada la variabilidad en el orden de los elementos, tienes que programar tu solución. (NO lo hagas a mano, que aburrido)\n",
    "\n",
    "1. ¿Cuál es la probabilidad de agarrar una manzana verde?\n",
    "2. ¿Cuál es la probabilidad de agarrar una manzana roja?\n",
    "3. ¿Cuál es la probabilidad de agarrar una manzana verde y después una roja?\n",
    "3. ¿Cuál es la probabilidad de agarrar una manzana roja y después otra roja?"
   ]
  },
  {
   "cell_type": "code",
   "execution_count": null,
   "metadata": {},
   "outputs": [],
   "source": []
  },
  {
   "cell_type": "markdown",
   "metadata": {},
   "source": [
    "-------"
   ]
  },
  {
   "cell_type": "markdown",
   "metadata": {},
   "source": [
    "**8.** Dada \"list1\", reemplaza cada elemento `a` por `--` (Considera el método `str.join`)\n",
    "\n",
    "ans: `['--', 'b', '--', 'd', '--']`\n",
    "\n",
    "```python\n",
    "list1 = [\"a\", \"b\", \"a\", \"d\", \"a\", \"a\", \"c\"]\n",
    "```\n"
   ]
  },
  {
   "cell_type": "code",
   "execution_count": null,
   "metadata": {},
   "outputs": [],
   "source": []
  },
  {
   "cell_type": "markdown",
   "metadata": {},
   "source": [
    "-------"
   ]
  },
  {
   "cell_type": "markdown",
   "metadata": {},
   "source": [
    "**9.** Dada la siguiente lista `frecuencias`, cálcula la densidad de cada elemento\n",
    "```python\n",
    "frecuencias = [1, 1, 4, 5, 7, 2]\n",
    "```\n",
    "\n",
    "Hint: Recuerda que la suma de todas las frecuencias de la lista debe sumar 1."
   ]
  },
  {
   "cell_type": "code",
   "execution_count": null,
   "metadata": {},
   "outputs": [],
   "source": []
  },
  {
   "cell_type": "markdown",
   "metadata": {},
   "source": [
    "-------"
   ]
  },
  {
   "cell_type": "markdown",
   "metadata": {},
   "source": [
    "**10.** Usando la función `map`, obtener el número de caractéres para cada elemento de la lista `acciones`:\n",
    "\n",
    "```python\n",
    "acciones = ['BIMBO', 'CEMEX', 'IENOVA', 'KOF', 'PE&OLES']\n",
    "```\n",
    "\n",
    "ans: `[5, 5, 6, 3, 7]`"
   ]
  },
  {
   "cell_type": "code",
   "execution_count": null,
   "metadata": {},
   "outputs": [],
   "source": []
  },
  {
   "cell_type": "markdown",
   "metadata": {},
   "source": [
    "-------"
   ]
  },
  {
   "cell_type": "markdown",
   "metadata": {},
   "source": [
    "**11.** Dada la lista `rango` y usando la función `map`, calcular el coseno de los valores\n",
    "\n",
    "ans: `[1.0, -1.0, 1.0]`\n",
    "\n",
    "```python \n",
    "from math import pi, cos\n",
    "rango = [0, pi, 2*pi, 3*pi, 4*pi]\n",
    "```"
   ]
  },
  {
   "cell_type": "code",
   "execution_count": null,
   "metadata": {},
   "outputs": [],
   "source": []
  },
  {
   "cell_type": "markdown",
   "metadata": {},
   "source": [
    "-------"
   ]
  },
  {
   "cell_type": "markdown",
   "metadata": {},
   "source": [
    "**12.** Dada la lista `nums`, suma a cada entrada un `1`.\n",
    "\n",
    "```python\n",
    "nums = [\"1\", \"3\", \"5\", \"7\", \"11\", \"13\"]\n",
    "```"
   ]
  },
  {
   "cell_type": "code",
   "execution_count": null,
   "metadata": {},
   "outputs": [],
   "source": []
  },
  {
   "cell_type": "markdown",
   "metadata": {},
   "source": [
    "-------"
   ]
  },
  {
   "cell_type": "markdown",
   "metadata": {},
   "source": [
    "**13.** Escribe un programa que le pida al usuario un número y regrese la suma de todos los dígitos. Por ejemplo, si el usario ingresa el número $1239$, el programa debería regresar $15$"
   ]
  },
  {
   "cell_type": "code",
   "execution_count": null,
   "metadata": {},
   "outputs": [],
   "source": []
  },
  {
   "cell_type": "markdown",
   "metadata": {},
   "source": [
    "-------"
   ]
  },
  {
   "cell_type": "markdown",
   "metadata": {},
   "source": [
    "**14.** Crear un dictionary comprehension de python donde las llaves sean los números 1 al $n$ y, los valores, una lista con la segunda, tercera y cuarta potencia de cada llave\n",
    "\n",
    "Por ejemplo, si $n=5$, entonces el programa arrojaría\n",
    "```python\n",
    "{1: [1, 1, 1],\n",
    " 2: [4, 8, 16],\n",
    " 3: [9, 27, 81],\n",
    " 4: [16, 64, 256],\n",
    " 5: [25, 125, 625]}\n",
    "```"
   ]
  },
  {
   "cell_type": "code",
   "execution_count": null,
   "metadata": {},
   "outputs": [],
   "source": []
  },
  {
   "cell_type": "markdown",
   "metadata": {},
   "source": [
    "-------"
   ]
  },
  {
   "cell_type": "markdown",
   "metadata": {},
   "source": [
    "**15.** Crear un dictionary comprehension de python donde las llaves sean los números 1 al $n$ y, los valores, una lista con sus potencias del $2$ al $m$\n",
    "\n",
    "Por ejemplo, si $n=6$, y $m=5$ entonces el programa arrojaría\n",
    "```python\n",
    "{1: [1, 1, 1, 1],\n",
    " 2: [4, 8, 16, 32],\n",
    " 3: [9, 27, 81, 243],\n",
    " 4: [16, 64, 256, 1024],\n",
    " 5: [25, 125, 625, 3125],\n",
    " 6: [36, 216, 1296, 7776]}\n",
    "```"
   ]
  },
  {
   "cell_type": "code",
   "execution_count": null,
   "metadata": {},
   "outputs": [],
   "source": []
  },
  {
   "cell_type": "markdown",
   "metadata": {},
   "source": [
    "-------"
   ]
  },
  {
   "cell_type": "markdown",
   "metadata": {},
   "source": [
    "**16.** Dada la lista `numbers`, crea un diccionario dónde la llave sea la entrada de cada lista y el valor la longitud de cada entrada  \n",
    "```python\n",
    "numbers = [\"one\", \"two\", \"three\", \"four\", \"five\", \"six\"]\n",
    "```"
   ]
  },
  {
   "cell_type": "code",
   "execution_count": null,
   "metadata": {},
   "outputs": [],
   "source": []
  },
  {
   "cell_type": "markdown",
   "metadata": {},
   "source": [
    "-------"
   ]
  },
  {
   "cell_type": "markdown",
   "metadata": {},
   "source": [
    "**17.** Usando solo list comprehensions, crea un programa que cree una tabla de multiplicar de $n\\times n$ que empiece desde el $1$. Preguntale al usuario que tan larga quiere la tabla.\n",
    "\n",
    "Por ejemplo, si $n=10$, el programa debería regresar la siguiente tabla.\n",
    "```python\n",
    "[[1, 2, 3, 4, 5, 6, 7, 8, 9, 10],\n",
    " [2, 4, 6, 8, 10, 12, 14, 16, 18, 20],\n",
    " [3, 6, 9, 12, 15, 18, 21, 24, 27, 30],\n",
    " [4, 8, 12, 16, 20, 24, 28, 32, 36, 40],\n",
    " [5, 10, 15, 20, 25, 30, 35, 40, 45, 50],\n",
    " [6, 12, 18, 24, 30, 36, 42, 48, 54, 60],\n",
    " [7, 14, 21, 28, 35, 42, 49, 56, 63, 70],\n",
    " [8, 16, 24, 32, 40, 48, 56, 64, 72, 80],\n",
    " [9, 18, 27, 36, 45, 54, 63, 72, 81, 90],\n",
    " [10, 20, 30, 40, 50, 60, 70, 80, 90, 100]]\n",
    "```"
   ]
  },
  {
   "cell_type": "code",
   "execution_count": null,
   "metadata": {},
   "outputs": [],
   "source": []
  },
  {
   "cell_type": "markdown",
   "metadata": {},
   "source": [
    "**18.** ¿Cuál es tu materia favorita?"
   ]
  },
  {
   "cell_type": "markdown",
   "metadata": {},
   "source": [
    "--Escribe aquí--"
   ]
  },
  {
   "cell_type": "markdown",
   "metadata": {},
   "source": [
    "**19.** ¿Sobre qué te gustaría aprender más?"
   ]
  },
  {
   "cell_type": "markdown",
   "metadata": {},
   "source": [
    "--Escribe aquí--"
   ]
  },
  {
   "cell_type": "markdown",
   "metadata": {},
   "source": [
    "**20.** ¿Algo que agregar?"
   ]
  },
  {
   "cell_type": "markdown",
   "metadata": {},
   "source": [
    "--Escribe aquí--"
   ]
  }
 ],
 "metadata": {
  "kernelspec": {
   "display_name": "Python 3",
   "language": "python",
   "name": "python3"
  },
  "language_info": {
   "codemirror_mode": {
    "name": "ipython",
    "version": 3
   },
   "file_extension": ".py",
   "mimetype": "text/x-python",
   "name": "python",
   "nbconvert_exporter": "python",
   "pygments_lexer": "ipython3",
   "version": "3.6.4"
  }
 },
 "nbformat": 4,
 "nbformat_minor": 2
}
