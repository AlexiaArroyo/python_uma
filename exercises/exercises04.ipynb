{
 "cells": [
  {
   "cell_type": "markdown",
   "metadata": {},
   "source": [
    "# Tarea #4\n",
    "## Numpy, SciPy & Matplotlib"
   ]
  },
  {
   "cell_type": "code",
   "execution_count": 2,
   "metadata": {},
   "outputs": [],
   "source": [
    "import numpy as np"
   ]
  },
  {
   "cell_type": "markdown",
   "metadata": {},
   "source": [
    "1) Crea un numpy array llamado `rango` con valores $\\{0, \\pi, 2\\pi, 3\\pi, 4\\pi\\}$ y aplica la función `cos` a cada elemento de la lista. Considera importar la variable `pi` y la función `cos` desde numpy."
   ]
  },
  {
   "cell_type": "code",
   "execution_count": null,
   "metadata": {},
   "outputs": [],
   "source": []
  },
  {
   "cell_type": "markdown",
   "metadata": {},
   "source": [
    "2) Reemplaza todo número impar dentro de `arr` por `-1`.\n",
    "```python\n",
    "arr = np.array([0, 1, 2, 3, 4, 5, 6, 7, 8, 9])\n",
    "```"
   ]
  },
  {
   "cell_type": "code",
   "execution_count": 6,
   "metadata": {},
   "outputs": [
    {
     "data": {
      "text/plain": [
       "array([ 0, -1,  2, -1,  4, -1,  6, -1,  8, -1])"
      ]
     },
     "execution_count": 6,
     "metadata": {},
     "output_type": "execute_result"
    }
   ],
   "source": []
  },
  {
   "cell_type": "markdown",
   "metadata": {},
   "source": [
    "3) Convierte el siguiente arreglo unidimensional de numpy arrays en una matriz de $2\\times 5$\n",
    "```python\n",
    "arr = np.arange(10)\n",
    "```"
   ]
  },
  {
   "cell_type": "code",
   "execution_count": null,
   "metadata": {},
   "outputs": [],
   "source": []
  },
  {
   "cell_type": "markdown",
   "metadata": {},
   "source": [
    "4) Encuentra los valores que `a1` y `a2` tienen en común.\n",
    "```python\n",
    "a1 = np.array([1, 2, 2, 3, 5, 5, 7, 7])\n",
    "a2 = np.array([1, 4, 6, 8, 9, 9, 2, 1])\n",
    "```"
   ]
  },
  {
   "cell_type": "code",
   "execution_count": null,
   "metadata": {},
   "outputs": [],
   "source": []
  },
  {
   "cell_type": "markdown",
   "metadata": {},
   "source": [
    "5) Usando unicamente numpy, escribe la función `integral(f, liminf, limsup, n)` que calcule la integral definida de una función $f$ desde `liminf` hasta `limsup` considerando `n` particiones. Recuerda que definimos la integral definida, como el siguiente límite de una suma de Riemann.\n",
    "\n",
    "$$\n",
    "    \\int_a^b f(x) dx := \\lim_{n\\to\\infty} \\sum_{k=1}^n f(x_k)\\Delta x; \\ \\Delta x = (b - a) / n\n",
    "$$\n",
    "\n",
    "Considera los siguientes ejemplos\n",
    "```python\n",
    ">>> integral(lambda x: x**2, 0, 2)\n",
    "2.666800013334667\n",
    "\n",
    ">>> integral(lambda x: np.sqrt(np.tan(x)), 0, 1.5, 10_000)\n",
    "1.689491199276935\n",
    "\n",
    ">>> integral(lambda x: sin(x**2), 0, pi, 10_000)\n",
    "0.77250680930883342\n",
    "```"
   ]
  },
  {
   "cell_type": "code",
   "execution_count": null,
   "metadata": {},
   "outputs": [],
   "source": []
  },
  {
   "cell_type": "markdown",
   "metadata": {},
   "source": [
    "6) usando la función `minimize` dentro de `scipy.optimize` y considerando los datos del archivo `data1.txt` (donde la primera columna son vectores de $x$ y la segunda $y$). Encuentra los valores $a$, $b$ que minimiza la función\n",
    "$$\n",
    "    J(a, b) = \\sum_{i=1}^n(a + b x_i - y_i)^2\n",
    "$$\n",
    "\n",
    "Una vez calculado los valores, grafíca los datos contra la función\n",
    "$$\n",
    "    \\hat y = a + b x\n",
    "$$\n",
    "\n",
    "Donde $a$, $b$ son los parámetros encontrados\n",
    "\n",
    "<img src=\"files/lreg.png\">"
   ]
  },
  {
   "cell_type": "code",
   "execution_count": null,
   "metadata": {},
   "outputs": [],
   "source": []
  }
 ],
 "metadata": {
  "kernelspec": {
   "display_name": "Python 3",
   "language": "python",
   "name": "python3"
  },
  "language_info": {
   "codemirror_mode": {
    "name": "ipython",
    "version": 3
   },
   "file_extension": ".py",
   "mimetype": "text/x-python",
   "name": "python",
   "nbconvert_exporter": "python",
   "pygments_lexer": "ipython3",
   "version": "3.6.4"
  }
 },
 "nbformat": 4,
 "nbformat_minor": 2
}
