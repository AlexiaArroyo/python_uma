{
 "cells": [
  {
   "cell_type": "markdown",
   "metadata": {},
   "source": [
    "# HM02"
   ]
  },
  {
   "cell_type": "markdown",
   "metadata": {},
   "source": [
    "1. Escribe un programa que mencione cómo se encuentra el clima. El Usuario deberá ingresar la temperatura actual:\n",
    "    * Si `temperatura` es mayor o igual a 35, el programa deberá imprimir `\"Hace mucho calor\"`.\n",
    "    * Si `temperatura` es menor a -15, el programa deberá imprimir `\"Hace mucho frío\"`\n",
    "    * Si `temperatura` es mayor a 25 y menor a 35, el programa deberá imprimir `\"Hace calor\"` \n",
    "    * Si `temperatura` es mayor o igual a -15 y menor a 12, el programa deberá imprimir `\"Hace frío\"`\n",
    "    * Si `temperatura` se encuentra entre 12 y 25 (inclusivo), el programa deberá imprimir `\"El clima es templado\"`\n",
    " "
   ]
  },
  {
   "cell_type": "code",
   "execution_count": null,
   "metadata": {},
   "outputs": [],
   "source": []
  },
  {
   "cell_type": "markdown",
   "metadata": {},
   "source": [
    "2. Usuario - Contraseña\n",
    "\n",
    "**2.1**  \n",
    "Consierando el diccionario `user_pass`, crea un programa que pida un usuario y valide si este se encuentra dentro del diccionario. Si el usuario se encuentra dentro de `user_pass`, el programa deberá imprimir `\"usuario registrado\"`; de otra manera, el programa deberá imprimir `\"usuario no registrado\"`. **nota: los programas de usuario-contraseña son más complicados**\n",
    "```python\n",
    "user_pass = {'usr503': '2vu2bo',\n",
    " 'usr085': 'geeaa',\n",
    " 'usr406': 'xqzbiy',\n",
    " 'usr182': 'jbngo0',\n",
    " 'usr168': 'qih6e',\n",
    " 'usr900': '6ynym',\n",
    " 'usr542': '7p6mnd',\n",
    " 'usr847': 'ruqq6y',\n",
    " 'usr629': '9qs9g5',\n",
    " 'usr418': 'f15lg'}\n",
    "```\n",
    "Por ejemplo:\n",
    "```\n",
    "Ingresa tu usuario: usr085\n",
    "Usuario Registrado\n",
    "```"
   ]
  },
  {
   "cell_type": "code",
   "execution_count": null,
   "metadata": {},
   "outputs": [],
   "source": []
  },
  {
   "cell_type": "markdown",
   "metadata": {},
   "source": [
    "**2.2**  \n",
    "Modifica el programa anterior: si el usuario **no** ha sido registrado, el programa deberá preguntarle al usuario si se desea registrar, si el usuario ingresa `\"s\"`, el programa deberá preguntarle al usuario una contraseña y agregarlo a `user_pass`; si el usuario ingresa `\"n\"` el programa deberá imprimir `\"El usuario no fue registrado\"`; si el usuario ingresa cualquier otra secuencia, el programa deberá imprimir `\"Opción no valida. Saliendo del programa\"`  \n",
    "Por ejemplo:\n",
    "```\n",
    "Ingresa tu usuario: usr1643\n",
    "Usuario no registrado. ¿Deseas inscribirte (s/n)? n\n",
    "Saliendo del programa...\n",
    "```\n",
    "```\n",
    "Ingresa tu usuario: usr1643\n",
    "Usuario no registrado. ¿Deseas inscribirte (s/n)? y\n",
    "Opción no valida. Saliendo del programa\n",
    "```\n",
    "```\n",
    "Ingresa tu usuario: usr1643\n",
    "Usuario no registrado. ¿Deseas inscribirte (s/n)? s\n",
    "Ingresa tu contraseña: grapple981\n",
    "```\n",
    "Y el diccionario se vería modificado de la siguiente manera\n",
    "```python\n",
    "{'usr503': '2vu2bo',\n",
    "     ...\n",
    " 'usr418': 'f15lg',\n",
    " 'usr1643': 'grapple981'}\n",
    "```"
   ]
  },
  {
   "cell_type": "code",
   "execution_count": null,
   "metadata": {},
   "outputs": [],
   "source": []
  },
  {
   "cell_type": "markdown",
   "metadata": {},
   "source": [
    "**2.3**.  \n",
    "Modifica el programa anterior: Si el usuario ya se ha registrado, el programa deberá pedirle al usuario que ingrese su contraseña. Si la contraseña no es la correcta, el programa deberá imprimir `\"Contraseña invalida\"`; si lo es, el programa deberá darle la bienvenida al usuario.\n",
    "```\n",
    "Ingresa tu usuario: usr085\n",
    "Ingresa tu contraseña: passw\n",
    "Contraseña invalida\n",
    "```\n",
    "```\n",
    "Ingresa tu usuario: usr085\n",
    "Ingresa tu contraseña: geeaa\n",
    "Bienvenido, usr085\n",
    "```"
   ]
  },
  {
   "cell_type": "code",
   "execution_count": null,
   "metadata": {},
   "outputs": [],
   "source": []
  },
  {
   "cell_type": "markdown",
   "metadata": {},
   "source": [
    "3. ¿Qué sucede al correr el siguiente código? Explica.\n",
    "```python\n",
    "    for x in 2:\n",
    "        print(x)\n",
    "```"
   ]
  },
  {
   "cell_type": "code",
   "execution_count": null,
   "metadata": {},
   "outputs": [],
   "source": []
  },
  {
   "cell_type": "markdown",
   "metadata": {},
   "source": [
    "4. Escribe un programa que cree el siguiente patrón:\n",
    "```\n",
    "1 \n",
    "1 2 \n",
    "1 2 3 \n",
    "1 2 3 4 \n",
    "1 2 3 4 5 \n",
    "```"
   ]
  },
  {
   "cell_type": "markdown",
   "metadata": {},
   "source": [
    "5. Escribe un programa para adivinar un número:  \n",
    "Considerando un número objetivo `target_num`, el programa le deberá pedir al usuario ingresar un número `input_num`. Si `input_num` > `target_num`, el programa deberá informarle al usuario que su número está por encima del número objetivo; de otra manera, si `input_num` < `target_num`, el programa deberá informarle al usuario que su número se encuentra por debajo del número objetivo. El programa se termina una vez que el usuario adivine el número objetivo, i.e., una vez que `input_num == target_num`."
   ]
  },
  {
   "cell_type": "code",
   "execution_count": null,
   "metadata": {},
   "outputs": [],
   "source": []
  },
  {
   "cell_type": "markdown",
   "metadata": {},
   "source": [
    "6. Considerando las listas `capitale` y `estados`, escribe un programa que escriba `\"la capital de <estado> es <capital>\"`; donde `<estado>` y `<capital>` representa cada elemento de las listas mencionadas.\n",
    "\n",
    "```\n",
    "capitales = ['Aguascalientes', 'Mexicali', 'La Paz', 'Campeche', 'Saltillo', 'Colima',\n",
    "             'Tuxtla Gutiérrez', 'Chihuahua', 'Ciudad de México', 'Durango', 'Guanajuato',\n",
    "             'Chilpancingo', 'Pachuca', 'Guadalajara', 'Toluca', 'Morelia', 'Cuernavaca', \n",
    "             'Tepic', 'Monterrey', 'Oaxaca', 'Puebla', 'Querétaro', 'Chetumal', 'San Luis Potosí',\n",
    "             'Culiacán', 'Hermosillo', 'Villahermosa', 'Ciudad Victoria', 'Tlaxcala', 'Xalapa',\n",
    "             'Mérida', 'Zacatecas']\n",
    "estados = ['Aguascalientes', 'Baja California', 'Baja California Sur', 'Campeche', 'Coahuila',\n",
    "           'Colima', 'Chiapas', 'Chihuahua', 'Distrito Federal', 'Durango', 'Guanajuato',\n",
    "           'Guerrero', 'Hidalgo', 'Jalisco', 'México', 'Michoacán', 'Morelos', 'Nayarit',\n",
    "           'Nuevo León', 'Oaxaca', 'Puebla', 'Querétaro', 'Quintana Roo', 'San Luis Potosí',\n",
    "           'Sinaloa', 'Sonora', 'Tabasco', 'Tamaulipas', 'Tlaxcala', 'Veracruz', 'Yucatán', 'Zacatecas']\n",
    "```"
   ]
  },
  {
   "cell_type": "code",
   "execution_count": null,
   "metadata": {},
   "outputs": [],
   "source": []
  },
  {
   "cell_type": "markdown",
   "metadata": {},
   "source": [
    "7. Escribe un programa que imprima la siguiente tabla de Multiplicación de 10x10.\n",
    "\n",
    "```\n",
    "01|02 03 04 05 06 07 08 09 10 \n",
    "-----------------------------\n",
    "02|04 06 08 10 12 14 16 18 20 \n",
    "03|06 09 12 15 18 21 24 27 30 \n",
    "04|08 12 16 20 24 28 32 36 40 \n",
    "05|10 15 20 25 30 35 40 45 50 \n",
    "06|12 18 24 30 36 42 48 54 60 \n",
    "07|14 21 28 35 42 49 56 63 70 \n",
    "08|16 24 32 40 48 56 64 72 80 \n",
    "09|18 27 36 45 54 63 72 81 90 \n",
    "10|20 30 40 50 60 70 80 90 100\n",
    "```"
   ]
  },
  {
   "cell_type": "code",
   "execution_count": null,
   "metadata": {},
   "outputs": [],
   "source": []
  },
  {
   "cell_type": "markdown",
   "metadata": {},
   "source": [
    "8. [Project Euler Problem #1](https://projecteuler.net/problem=1)  \n",
    "If we list all the natural numbers below 10 that are multiples of 3 or 5, we get 3, 5, 6 and 9. The sum of these multiples is 23.\n",
    "\n",
    "Find the sum of all the multiples of 3 or 5 below 1000."
   ]
  },
  {
   "cell_type": "code",
   "execution_count": null,
   "metadata": {},
   "outputs": [],
   "source": []
  },
  {
   "cell_type": "markdown",
   "metadata": {},
   "source": [
    "9. [Project Euler Problem #10](https://projecteuler.net/problem=10)  \n",
    "The sum of the primes below $10$ is $2 + 3 + 5 + 7 = 17$.\n",
    "\n",
    "Find the sum of all the primes below two million ($2,000,000$).\n",
    "\n",
    "Hint: considera la [Criba de Eratóstenes](https://es.wikipedia.org/wiki/Criba_de_Erat%C3%B3stenes)"
   ]
  },
  {
   "cell_type": "code",
   "execution_count": null,
   "metadata": {},
   "outputs": [],
   "source": []
  }
 ],
 "metadata": {
  "kernelspec": {
   "display_name": "Python 3",
   "language": "python",
   "name": "python3"
  },
  "language_info": {
   "codemirror_mode": {
    "name": "ipython",
    "version": 3
   },
   "file_extension": ".py",
   "mimetype": "text/x-python",
   "name": "python",
   "nbconvert_exporter": "python",
   "pygments_lexer": "ipython3",
   "version": "3.6.6"
  }
 },
 "nbformat": 4,
 "nbformat_minor": 2
}
