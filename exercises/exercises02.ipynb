{
 "cells": [
  {
   "cell_type": "markdown",
   "metadata": {},
   "source": [
    "# Tarea #2\n",
    "\n",
    "Bienvenido a tu segunda tarea en Python. Recuerda que las tareas son para que refuerzes tu conocimiento y desarrolles tu habilidad en resolver problemas cuantitativos. Date tiempo para resolver a conciencia cada problema."
   ]
  },
  {
   "cell_type": "markdown",
   "metadata": {},
   "source": [
    "**1.** ¿Cuáles son las repuestas a la siguientes expresiones? (Analiza la soluciónantes de ver el resultado en Python)\n",
    "Explica tu razonamiento\n",
    "\n",
    "a)\n",
    "```python\n",
    "    not (3 > 3)\n",
    "```\n",
    "b)\n",
    "```python\n",
    "    not (3 > 3) and False\n",
    "```\n",
    "c)\n",
    "```python\n",
    "    3 > 3 * 2\n",
    "```\n",
    "d)\n",
    "```python\n",
    "    (3 > 3) * 2 ^ 1\n",
    "```"
   ]
  },
  {
   "cell_type": "code",
   "execution_count": null,
   "metadata": {},
   "outputs": [],
   "source": []
  },
  {
   "cell_type": "markdown",
   "metadata": {},
   "source": [
    "**2.** Escribe un programa que acepte un `str` y regrese un diccionario con el número de letras mayúsculas y mínusculas dentro del `str`. (No consideres strings con acentos)\n",
    "\n",
    "Por ejemplo\n",
    "\n",
    "```python\n",
    ">>> num_letras(\"Los Buenos\")\n",
    "{'lower': 7, 'upper': 2}\n",
    "\n",
    ">>> num_letras(\"El numero es 555445522\")\n",
    "{'lower': 9, 'upper': 1}\n",
    "```"
   ]
  },
  {
   "cell_type": "code",
   "execution_count": null,
   "metadata": {},
   "outputs": [],
   "source": []
  },
  {
   "cell_type": "markdown",
   "metadata": {},
   "source": [
    "**3.** Escribe el programa `fizzbuzz` que le pida al usuario un número entero $n$. El programa debe regresar una lista del 1 al $n$ con las siguientes reglas:\n",
    "* `Fizz` si el número es divisible entre $3$;\n",
    "* `Buzz` si el número es divisible entre $5$;\n",
    "* `FizzBuzz` si el número es divisible entre $3$ y $5$;\n",
    "* El número si no es divisible entre $3$ o $5$.\n",
    "\n",
    "Por ejemplo, si `n=10`, el programa regresa \n",
    "\n",
    "```python\n",
    "[1, 2, 'Fizz', 4, 'Buzz', 'Fizz', 7, 8, 'Fizz', 'Buzz', 11, 'Fizz', 13, 14, 'FizzBuzz']\n",
    "```"
   ]
  },
  {
   "cell_type": "code",
   "execution_count": null,
   "metadata": {},
   "outputs": [],
   "source": []
  },
  {
   "cell_type": "markdown",
   "metadata": {},
   "source": [
    "**4.** Escribe la función `mcd(x, y)` que, que dados dos números, $x, y \\in \\mathbb{Z}^+$, calcule su máximo común divisor (MCD). Por ejemplo, $MCD(54, 24) = 6$"
   ]
  },
  {
   "cell_type": "code",
   "execution_count": null,
   "metadata": {},
   "outputs": [],
   "source": []
  },
  {
   "cell_type": "markdown",
   "metadata": {},
   "source": [
    "**5.** Escribe un programa que calcule la suma de los primeros 1,000 números primos.(Recuerda que el primer número primo es `2`)"
   ]
  },
  {
   "cell_type": "code",
   "execution_count": null,
   "metadata": {},
   "outputs": [],
   "source": []
  },
  {
   "cell_type": "markdown",
   "metadata": {},
   "source": [
    "**6.** Escribe un programa que escriba el triangulo de pascal a $n\\geq 1$ terminos. Por ejemplo, si `n = 12`, el programa debe regresar\n",
    "\n",
    "```python\n",
    "[[1],\n",
    " [1, 1],\n",
    " [1, 2, 1],\n",
    " [1, 3, 3, 1],\n",
    " [1, 4, 6, 4, 1],\n",
    " [1, 5, 10, 10, 5, 1],\n",
    " [1, 6, 15, 20, 15, 6, 1],\n",
    " [1, 7, 21, 35, 35, 21, 7, 1],\n",
    " [1, 8, 28, 56, 70, 56, 28, 8, 1],\n",
    " [1, 9, 36, 84, 126, 126, 84, 36, 9, 1],\n",
    " [1, 10, 45, 120, 210, 252, 210, 120, 45, 10, 1],\n",
    " [1, 11, 55, 165, 330, 462, 462, 330, 165, 55, 11, 1]]\n",
    "```\n"
   ]
  },
  {
   "cell_type": "code",
   "execution_count": null,
   "metadata": {},
   "outputs": [],
   "source": []
  },
  {
   "cell_type": "markdown",
   "metadata": {},
   "source": [
    "**7.** Crea una función que aproxime numéricamente la $n$-ésima derivada de cualquier función función $f:\\mathbb{R} \\to \\mathbb{R}$ derivable.\n",
    "\n",
    "```python\n",
    ">>> deriv(f=sin, x=3*pi, n=3)\n",
    "1.00000003833145\n",
    "\n",
    ">>> deriv(f=sin, n=3*pi, n=1)\n",
    "-0.9999999983310027\n",
    "\n",
    ">>> g = lambda x: x**3\n",
    ">>> deriv(f=g, x=2, n=2)\n",
    "12.000599980410698\n",
    "\n",
    ">>> deriv(f=g, x=2, n=3)\n",
    "6.000533403494046\n",
    "```"
   ]
  },
  {
   "cell_type": "code",
   "execution_count": null,
   "metadata": {},
   "outputs": [],
   "source": []
  },
  {
   "cell_type": "markdown",
   "metadata": {},
   "source": [
    "**8.** $1,001$ observaciones de unos dados que, se creen fueron cargados son observados y se guardaron dentro del archivo \"dados.txt\". Crea un programa que lea el archivo, cuente los dados para cada lado y regrese su probabilidad en un diccionario. Por ejemplo,\n",
    "\n",
    "```python\n",
    "{'1': 0.05,\n",
    " '2': 0.2,\n",
    " '3': 0.3,\n",
    " '4': 0.3,\n",
    " '5': 0.1,\n",
    " '6': 0.05}\n",
    "```\n",
    "\n",
    "Luego responde:\n",
    "1. ¿Cuál es la probablidad de que caiga un 6?\n",
    "1. ¿Cuál es la probablidad de que caiga un 6 y luego un 3?"
   ]
  },
  {
   "cell_type": "code",
   "execution_count": null,
   "metadata": {},
   "outputs": [],
   "source": []
  },
  {
   "cell_type": "markdown",
   "metadata": {},
   "source": [
    "**9.** Escribe un programa que cree el archivo `fibo.txt` dentro la carpeta `files` con los primeros 1500 elementos de la secuencia fibonacci."
   ]
  },
  {
   "cell_type": "code",
   "execution_count": null,
   "metadata": {},
   "outputs": [],
   "source": []
  },
  {
   "cell_type": "markdown",
   "metadata": {},
   "source": [
    "**10.** Hacer un programa en Python que imprima la siguiente tabla de \n",
    "Multiplicación de 10x10 en python.\n",
    "\n",
    "```\n",
    "01|02 03 04 05 06 07 08 09 10 \n",
    "-----------------------------\n",
    "02|04 06 08 10 12 14 16 18 20 \n",
    "03|06 09 12 15 18 21 24 27 30 \n",
    "04|08 12 16 20 24 28 32 36 40 \n",
    "05|10 15 20 25 30 35 40 45 50 \n",
    "06|12 18 24 30 36 42 48 54 60 \n",
    "07|14 21 28 35 42 49 56 63 70 \n",
    "08|16 24 32 40 48 56 64 72 80 \n",
    "09|18 27 36 45 54 63 72 81 90 \n",
    "10|20 30 40 50 60 70 80 90 100\n",
    "```"
   ]
  },
  {
   "cell_type": "code",
   "execution_count": null,
   "metadata": {},
   "outputs": [],
   "source": []
  },
  {
   "cell_type": "markdown",
   "metadata": {},
   "source": [
    "**11.** Escribe tu propia función. Documentala como vista en clase."
   ]
  },
  {
   "cell_type": "code",
   "execution_count": null,
   "metadata": {},
   "outputs": [],
   "source": []
  }
 ],
 "metadata": {
  "kernelspec": {
   "display_name": "Python 3",
   "language": "python",
   "name": "python3"
  },
  "language_info": {
   "codemirror_mode": {
    "name": "ipython",
    "version": 3
   },
   "file_extension": ".py",
   "mimetype": "text/x-python",
   "name": "python",
   "nbconvert_exporter": "python",
   "pygments_lexer": "ipython3",
   "version": "3.6.5"
  }
 },
 "nbformat": 4,
 "nbformat_minor": 2
}
